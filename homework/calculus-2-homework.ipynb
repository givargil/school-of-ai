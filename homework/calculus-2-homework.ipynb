{
 "cells": [
  {
   "cell_type": "code",
   "execution_count": 1,
   "metadata": {},
   "outputs": [],
   "source": [
    "%load_ext autoreload\n",
    "%autoreload 2\n",
    "\n",
    "%matplotlib inline"
   ]
  },
  {
   "cell_type": "markdown",
   "metadata": {},
   "source": [
    "## Basic setup"
   ]
  },
  {
   "cell_type": "markdown",
   "metadata": {},
   "source": [
    "Create anaconda environment\n",
    "<br>\n",
    "```bash\n",
    "conda create -n ml python=3.7.4 jupyter\n",
    "```\n",
    "Install fastai library\n",
    "<br>\n",
    "```bash\n",
    "conda install -c pytorch -c fastai fastai\n",
    "```"
   ]
  },
  {
   "cell_type": "markdown",
   "metadata": {},
   "source": [
    "# Derivatives"
   ]
  },
  {
   "cell_type": "markdown",
   "metadata": {},
   "source": [
    "#### Example:\n",
    "$$f(x,y) = \\begin{cases}x & \\text{if }y \\ne x^2 \\\\ 0 & \\text{if }y = x^2\\end{cases}$$\n",
    "\n",
    "\n",
    "Derivative by $x$ : $\\lim_{h \\to 0} \\frac{f(x+h,0)-f(x,0)}{h}=1$\n",
    "\n",
    "Derivative by $y$ : $\\lim_{h \\to 0} \\frac{f(0,y+h)-f(0,y)}{h}=0$\n",
    "\n",
    "Partial derivatives differ from each other, that means that the function is not differentiated"
   ]
  },
  {
   "cell_type": "markdown",
   "metadata": {},
   "source": [
    "#### Example:\n",
    "$$f(x,y) = \\begin{cases}y^3/(x^2+y^2) & \\text{if }(x,y) \\ne (0,0) \\\\ 0 & \\text{if }(x,y) = (0,0)\\end{cases}$$\n",
    "\n",
    "$ x = r \\cos \\alpha , y = r \\sin \\alpha $ \n",
    "\n",
    "If we transfer the function to polar coordinates, we will get:\n",
    "\n",
    "$$ x = r \\cos(\\alpha), y = r\\sin(\\alpha).  $$$$f(r,\\alpha) = \\begin{cases}\\frac{ r^3\\sin^3(\\alpha)}{r^2} &amp; r \\gt 0 \\\\ 0 &amp; r = 0  \\end{cases} = \\begin{cases} r\\sin^3(\\alpha) &amp; r \\gt 0 \\\\ 0 &amp; r = 0  \\end{cases} $$\n",
    "The derivative therefore is,$$ \\frac{\\partial f}{\\partial r} = \\lim_{h\\to 0}\\frac{(r+h-r)\\sin^3(\\alpha)}{h} = \\lim_{h\\to 0} \\sin^3(\\alpha)$$\n",
    "We have got that the limit is dependent on $\\alpha$. And concequently derivative doesn't exist at $(0,0)$ point.\n"
   ]
  },
  {
   "cell_type": "code",
   "execution_count": null,
   "metadata": {},
   "outputs": [],
   "source": []
  }
 ],
 "metadata": {
  "kernelspec": {
   "display_name": "Python 3",
   "language": "python",
   "name": "python3"
  },
  "language_info": {
   "codemirror_mode": {
    "name": "ipython",
    "version": 3
   },
   "file_extension": ".py",
   "mimetype": "text/x-python",
   "name": "python",
   "nbconvert_exporter": "python",
   "pygments_lexer": "ipython3",
   "version": "3.7.4"
  }
 },
 "nbformat": 4,
 "nbformat_minor": 4
}
