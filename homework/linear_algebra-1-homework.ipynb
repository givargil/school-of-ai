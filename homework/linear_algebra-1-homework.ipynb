{
 "cells": [
  {
   "cell_type": "code",
   "execution_count": 1,
   "metadata": {},
   "outputs": [],
   "source": [
    "%load_ext autoreload\n",
    "%autoreload 2\n",
    "\n",
    "%matplotlib inline"
   ]
  },
  {
   "cell_type": "markdown",
   "metadata": {},
   "source": [
    "## Basic setup"
   ]
  },
  {
   "cell_type": "markdown",
   "metadata": {},
   "source": [
    "Create anaconda environment\n",
    "<br>\n",
    "```bash\n",
    "conda create -n ml python=3.7.4 jupyter\n",
    "```\n",
    "Install fastai library\n",
    "<br>\n",
    "```bash\n",
    "conda install -c pytorch -c fastai fastai\n",
    "```"
   ]
  },
  {
   "cell_type": "markdown",
   "metadata": {},
   "source": [
    "# Set theory basics"
   ]
  },
  {
   "cell_type": "markdown",
   "metadata": {},
   "source": [
    "#### Prove that:\n",
    "<br>\n",
    "$A \\subseteq A$\n",
    "\n",
    "For any 'a' the next logic is true: \n",
    "if $a   \\in   $A then $a \\in A$  \n",
    "consequently $A \\subseteq A$"
   ]
  },
  {
   "cell_type": "markdown",
   "metadata": {},
   "source": [
    "#### Prove that:\n",
    "<br>\n",
    "If $A \\subseteq B$ and $B \\subseteq A$ $\\to$ $A = B$\n",
    "\n",
    "1) If A=B, clearly A⊆B and B⊆A.\n",
    "\n",
    "2) Suppose that A⊆B and B⊆A. If A≠B, then there exists x∈A∖B(or x∈B∖A), however A⊆B, clearly x∈B. This is a contradiction. So A=B."
   ]
  },
  {
   "cell_type": "markdown",
   "metadata": {},
   "source": [
    "#### Prove that:\n",
    "<br>\n",
    "if $B \\subset A$ then $A \\cap B = B$\n",
    "\n",
    "\n",
    "$x \\in B => x \\in A $\n",
    "\n",
    "If x ∈ A ∩ B, then x ∈ B and x ∈ A by definition, so in particular x ∈ B. This proves A ∩ B ⊆ B. Now if x ∈ B, then by assumption x ∈ A, too, so x ∈ A ∩ B. This proves B ⊆ A ∩ B. Together this implies B = A ∩ B. Now assume that A ∩ B = B. If x ∈ B, then by assumption x ∈ A ∩ B, so x ∈ A and x ∈ B. In particular, x ∈ B. This proves B ⊆ A.\n"
   ]
  },
  {
   "cell_type": "markdown",
   "metadata": {},
   "source": [
    "#### Prove that:\n",
    "<br>\n",
    "$A \\cap B = B \\cap A$\n",
    "\n",
    "\n",
    "If x is any element in $A \\cap B$, then we know by definition of intersection that $x \\in A$ and $x \\in B$. Hence, $x \\in B$ and $x \\in A$, and so, $x \\in B \\cap A$. Therefore, $A \\cap B \\subseteq B \\cap A$.\n",
    "The reverse inclusion is again identical: if x is any element of $B \\cap A$, then we know $x \\in B$ and $x \\in A$. Hence, $x \\in A$ and $x \\in B$. This implies $x \\in A \\cap B$. Hence, $B \\cap A \\subseteq A \\cap B$.\n",
    "So, $A \\cap B = B \\cap A$.\n"
   ]
  },
  {
   "cell_type": "markdown",
   "metadata": {},
   "source": [
    "#### Prove that:\n",
    "<br>\n",
    "if $B \\subset A$ then $A \\cup B = A$\n",
    "\n",
    "$B \\subset A$ and $A \\subseteq A$ => $B \\cup A \\subseteq A $, $A$ is the smallest set that includes A =>\n",
    "\n",
    "=> A is the smallest set which includes both of the sets  => $ A = A \\cup B$\n"
   ]
  },
  {
   "cell_type": "markdown",
   "metadata": {},
   "source": [
    "#### Prove that:\n",
    "<br>\n",
    "$A \\cup B = B \\cup A$\n",
    "\n",
    "If x is any element in $A \\cup B$ then, by definition of union, we have $x \\in A$ or $x \\in B$. But, if x is in A or B, then it is in B or A, and by definition of union, this means $x \\in B \\cup A$. Therefore, $A \\cup B \\subseteq B \\cup A$.\n",
    "The other inclusion is identical: if x is any element of B \\cup A, then we know $x \\in B$ or $x \\in A$. But, $x \\in B$ or $x \\in A$ implies that x is in A or B; and hence, $x \\in A \\cup B$. Therefore, $B\\ \\cup A \\subseteq A \\cup B$.\n",
    "Hence, $A \\cup B = B \\cup A$.\n"
   ]
  },
  {
   "cell_type": "markdown",
   "metadata": {},
   "source": [
    "#### Prove that:\n",
    "- for every injection $m:A \\to B$ and pair of functions $f, g :C \\to A$: if $m \\circ f = m \\circ g$ then $f = g$ and vice-versa\n",
    "\n",
    "$\\forall c\\in C$, $m( f (c )) = m( g(c)) $ . From the definition of injection $ \\implies f(c) = g(c) \\implies f = g$\n",
    "\n",
    "- for every surjection $e:A \\to B$ and every pair of functions $f, g :B \\to C$: if $f \\circ e = g \\circ e$ then $f = g$ and vice-versa\n",
    "\n",
    "surjection: $\\forall b \\in B,\\  \\exists a \\in A$, such that $b=e(a) \\implies e(a) $ covers whole set of $B \\implies $ $f(e(a)) = g(e(a))$ is true for each element of $ B \\implies f=g;$ \\ $f=g$ means $\\forall b \\in B \\ f(b) = g(b), e(a) $ covers whole set of $B \\implies \\ f(e(a)) = g(e(a))$"
   ]
  },
  {
   "cell_type": "markdown",
   "metadata": {},
   "source": [
    "#### Prove that \n",
    "- composition of injections is injection itself\n",
    "\n",
    "assume f and g are injective and suppose\n",
    "g∘f(x1)=g∘f(x2).\n",
    "This means\n",
    "g(f(x1))=g(f(x2))\n",
    "that, by the injectivity of g, implies\n",
    "f(x1)=f(x2).\n",
    "Injectivity of f allows us to argue that\n",
    "x1=x2.\n",
    "\n",
    "- composition of surjections is surjection itself\n",
    "\n",
    "let f:A→B and g:B→C be surjective functions. We wish to show that g∘f:A→C is also surjective. \n",
    "\n",
    "Now, we know that for every c∈C, there is a b∈B such that c=g(b), by surjectivity of g. And we know that for that same b, there exists an a∈A such that b=f(a), by surjectivity of f. So what we have shown is that for every c∈C, there is an a∈A such that c=g(f(a))=g∘f(a), \n",
    "\n",
    "i.e., g∘f is surjective.\n",
    "\n",
    "- composition of bijections is bijection itself\n",
    "<br>\n",
    "\n",
    "Since they are bijections they have inverses f−1,g−1. from B to A and from C to B\n",
    "\n",
    "(g∘f)∘(f−1∘g−1)=(g∘1C)∘g−1=1C\n",
    "\n",
    "(f−1∘g−1)∘(g∘f)=(f−1∘1A)∘f=1A\n",
    "\n",
    "so g∘f has an inverse and thus is bijective."
   ]
  },
  {
   "cell_type": "markdown",
   "metadata": {},
   "source": [
    "#### Prove that for each set $A$:\n",
    "- $A \\cong A$\n",
    "- if $B \\cong A$ then $B \\cong A$ for every pair of sets $A$ and $B$\n",
    "- if $A \\cong B$ and $B \\cong C$ then $A \\cong C$ for every triplet $A$, $B$ and $C$"
   ]
  },
  {
   "cell_type": "markdown",
   "metadata": {},
   "source": [
    "#### Prove that:\n",
    "<br>\n",
    "there exists a bijection between set of natural and even numbers\n",
    "\n",
    "Let f(n) = 2n .\n",
    "For any natural number, f(n) is a natural even number. \n",
    "\n",
    "1 -> 2\n",
    "\n",
    "2 -> 4\n",
    "\n",
    "3 -> 6\n",
    "\n",
    "etc...\n",
    "\n",
    " "
   ]
  },
  {
   "cell_type": "markdown",
   "metadata": {},
   "source": [
    "#### Prove that:\n",
    "<br>\n",
    "if we have a bijection between two finite sets than they have an equal number of elements\n",
    "\n",
    "\n",
    "$f$ is bijective, so it is injective and surjective.\n",
    "Since $f$ is injective, $ f(a)=f(b)⟹a=b $\n",
    "\n",
    "For a given value in the range, there is one and only one value in the domain. So the cardinality of the domain is less than or equal to the cardinality of the range. There could be points in the range not mapped from the domain.\n",
    "\n",
    "Since $f$ is surjective, every element of the range has a pre image in the domain. The domain might have some elements not mapped to elements of the range. So the cardinality of the domain is greater than or equal to the cardinality of the range.\n",
    "\n",
    "$n<=m$ and $n>=m ⟹ n=m$\n",
    "\n"
   ]
  },
  {
   "cell_type": "markdown",
   "metadata": {},
   "source": [
    "#### Prove that:\n",
    "<br>\n",
    "$A \\times B \\cong B \\times A$\n",
    "\n",
    "\n",
    "Let A and B be groups. \n",
    "\n",
    "Prove that A×B≅B×A.\n",
    "We need to show this by giving an explicit isomorphism. \n",
    "\n",
    "Let ϕ:A×B→B×A, where ϕ(a,b)=(b,a). \n",
    "\n",
    "First, it's clear that ϕ is a homomorphism because ϕ ( ( a , b ) ( a ′ , b ′ ) ) = ϕ ( a a ′ , b b ′ ) = ( b b ′ , a a ′ ) = ( b , a ) ( b ′ , a ′ ) = ϕ ( a , b ) ϕ ( a ′ , b ′ )"
   ]
  },
  {
   "cell_type": "markdown",
   "metadata": {},
   "source": [
    "$\\cap_{i\\in I}A_i$ and $\\cup_{i\\in I}A_i$"
   ]
  },
  {
   "cell_type": "code",
   "execution_count": null,
   "metadata": {},
   "outputs": [],
   "source": [
    "# Inplement in python"
   ]
  },
  {
   "cell_type": "markdown",
   "metadata": {},
   "source": [
    "We can also define cartesian product of any \"number\" of sets $\\prod_{i \\in I}{A_i}$"
   ]
  },
  {
   "cell_type": "code",
   "execution_count": null,
   "metadata": {},
   "outputs": [],
   "source": [
    "# Inplement in python"
   ]
  },
  {
   "cell_type": "markdown",
   "metadata": {},
   "source": [
    "#### Prove that:\n",
    "<br>\n",
    "$$A \\cap (B \\cup C)=(A \\cap B) \\cup (A\\cap C)$$\n",
    "\n",
    "For any $  x \\in A \\cap (B \\cup C) => x \\in A, x \\in B \\cup C  =>  x \\in B$ or $x \\in C $  => \n",
    "\n",
    " => $ x \\in B$ or $ x \\in C  =>  x \\in A \\cap B $ or $ x \\in A \\cap C $  => \n",
    "\n",
    " => $ x \\in (A \\cap B) \\cup (A \\cap C)$\n",
    "\n",
    "\n",
    "\n",
    "\n",
    "$$A \\cup (B \\cap C)=(A \\cup B) \\cap (A\\cup C)$$\n",
    "\n",
    "For any $x \\in A \\cup B \\cap C => x \\in A $ or $ (x \\in B $ and $ x \\in C) $ =>\n",
    "\n",
    "$ => x \\in A \\cup B$ and $ x \\in A \\cup C $=>\n",
    "\n",
    "$ => x \\in (A \\cup B) \\cap (A \\cup C)$\n"
   ]
  },
  {
   "cell_type": "markdown",
   "metadata": {},
   "source": [
    "# Linear Algebra"
   ]
  },
  {
   "cell_type": "markdown",
   "metadata": {},
   "source": [
    "#### Prove that:\n",
    "<br>\n",
    "$(AB)^{T} = B^{T}A^{T}$ for each pair of matrices $A, B \\in \\mathbb{R}^{n \\times m}$"
   ]
  },
  {
   "cell_type": "markdown",
   "metadata": {},
   "source": [
    "## Functions on tensors"
   ]
  },
  {
   "cell_type": "markdown",
   "metadata": {},
   "source": [
    "#### Write combination for $XOR$ calculation"
   ]
  },
  {
   "cell_type": "code",
   "execution_count": 6,
   "metadata": {},
   "outputs": [],
   "source": [
    "def xor_combo(target, mask_list):\n",
    "    masks_by_bit = [0] * 8 # number of bits\n",
    "    # use defaultdict(int) for arbitrary size\n",
    "\n",
    "    for mask in mask_list:\n",
    "        while masks_by_bit[mask.bit_length() - 1] != 0:\n",
    "            mask ^= masks_by_bit[mask.bit_length() - 1]\n",
    "        if mask != 0:\n",
    "            masks_by_bit[mask.bit_length() - 1] = mask\n",
    "        # else: \n",
    "\n",
    "    while masks_by_bit[target.bit_length() - 1] != 0:\n",
    "        target ^= masks_by_bit[target.bit_length() - 1]\n",
    "    return (target == 0)\n"
   ]
  },
  {
   "cell_type": "code",
   "execution_count": 7,
   "metadata": {},
   "outputs": [
    {
     "data": {
      "text/plain": [
       "True"
      ]
     },
     "execution_count": 7,
     "metadata": {},
     "output_type": "execute_result"
    }
   ],
   "source": [
    "xor_combo(5, [7, 2])"
   ]
  },
  {
   "cell_type": "code",
   "execution_count": 8,
   "metadata": {},
   "outputs": [
    {
     "data": {
      "text/plain": [
       "False"
      ]
     },
     "execution_count": 8,
     "metadata": {},
     "output_type": "execute_result"
    }
   ],
   "source": [
    "xor_combo(5, [7, 3, 4])"
   ]
  },
  {
   "cell_type": "code",
   "execution_count": 9,
   "metadata": {},
   "outputs": [
    {
     "data": {
      "text/plain": [
       "True"
      ]
     },
     "execution_count": 9,
     "metadata": {},
     "output_type": "execute_result"
    }
   ],
   "source": [
    "xor_combo(5, [7, 3, 1])"
   ]
  },
  {
   "cell_type": "code",
   "execution_count": null,
   "metadata": {},
   "outputs": [],
   "source": []
  }
 ],
 "metadata": {
  "kernelspec": {
   "display_name": "Python 3",
   "language": "python",
   "name": "python3"
  },
  "language_info": {
   "codemirror_mode": {
    "name": "ipython",
    "version": 3
   },
   "file_extension": ".py",
   "mimetype": "text/x-python",
   "name": "python",
   "nbconvert_exporter": "python",
   "pygments_lexer": "ipython3",
   "version": "3.7.4"
  }
 },
 "nbformat": 4,
 "nbformat_minor": 4
}
